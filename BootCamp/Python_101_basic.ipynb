{
  "nbformat": 4,
  "nbformat_minor": 0,
  "metadata": {
    "colab": {
      "provenance": [],
      "toc_visible": true
    },
    "kernelspec": {
      "name": "python3",
      "display_name": "Python 3"
    },
    "language_info": {
      "name": "python"
    }
  },
  "cells": [
    {
      "cell_type": "markdown",
      "source": [
        "# Basic Python"
      ],
      "metadata": {
        "id": "40qb6CPOhUiB"
      }
    },
    {
      "cell_type": "markdown",
      "source": [
        "## 5 building block\n",
        "### 1.variable\n",
        "### 2.datype\n",
        "### 3.data structire\n",
        "### 4.function\n",
        "### 5.control flow\n",
        "### 6.OOP"
      ],
      "metadata": {
        "id": "iNURHlwDin2t"
      }
    },
    {
      "cell_type": "markdown",
      "source": [
        "### 1.valiable"
      ],
      "metadata": {
        "id": "mAXEkoaCjBpk"
      }
    },
    {
      "cell_type": "code",
      "source": [
        "my_name = \"toy\"\n",
        "age = 44\n",
        "gpa = 3.75\n",
        "movie_lover = True\n"
      ],
      "metadata": {
        "id": "l0itnvpOhPJ0"
      },
      "execution_count": 144,
      "outputs": []
    },
    {
      "cell_type": "code",
      "execution_count": 145,
      "metadata": {
        "colab": {
          "base_uri": "https://localhost:8080/",
          "height": 34
        },
        "id": "_46gMn5leNGE",
        "outputId": "2cbad67b-ddbc-4e67-af27-ce561f0dec28"
      },
      "outputs": [
        {
          "output_type": "execute_result",
          "data": {
            "text/plain": [
              "'toy'"
            ],
            "application/vnd.google.colaboratory.intrinsic+json": {
              "type": "string"
            }
          },
          "metadata": {},
          "execution_count": 145
        }
      ],
      "source": [
        "my_name\n"
      ]
    },
    {
      "cell_type": "code",
      "source": [
        "print(my_name,age,gpa,movie_lover)"
      ],
      "metadata": {
        "colab": {
          "base_uri": "https://localhost:8080/",
          "height": 0
        },
        "id": "HDvVXWdbj80W",
        "outputId": "2d95e476-c07b-4797-8539-fb0283cc353f"
      },
      "execution_count": 146,
      "outputs": [
        {
          "output_type": "stream",
          "name": "stdout",
          "text": [
            "toy 44 3.75 True\n"
          ]
        }
      ]
    },
    {
      "cell_type": "code",
      "source": [
        "s23 = 5552"
      ],
      "metadata": {
        "id": "rQT1GccFl8rf"
      },
      "execution_count": 147,
      "outputs": []
    },
    {
      "cell_type": "code",
      "source": [
        "# remove variable (ตัวแปร)\n",
        "del s23"
      ],
      "metadata": {
        "id": "1dznTudsj8_8"
      },
      "execution_count": 148,
      "outputs": []
    },
    {
      "cell_type": "code",
      "source": [
        "age +=1\n",
        "age +=1\n",
        "age -=1\n",
        "print(age)"
      ],
      "metadata": {
        "colab": {
          "base_uri": "https://localhost:8080/",
          "height": 0
        },
        "id": "1w32hnzrj9Cw",
        "outputId": "fcc2dd3b-aaae-4360-be8b-9ca546547e20"
      },
      "execution_count": 149,
      "outputs": [
        {
          "output_type": "stream",
          "name": "stdout",
          "text": [
            "45\n"
          ]
        }
      ]
    },
    {
      "cell_type": "markdown",
      "source": [
        "### Data type\n"
      ],
      "metadata": {
        "id": "gDHJDqq8m0D1"
      }
    },
    {
      "cell_type": "code",
      "source": [
        "# int float str bool"
      ],
      "metadata": {
        "id": "jrVTfV4Oj9Fv"
      },
      "execution_count": 150,
      "outputs": []
    },
    {
      "cell_type": "markdown",
      "source": [
        "##### check data type"
      ],
      "metadata": {
        "id": "eG7fONjMnVZg"
      }
    },
    {
      "cell_type": "code",
      "source": [
        "print(type(age))\n",
        "print()\n"
      ],
      "metadata": {
        "colab": {
          "base_uri": "https://localhost:8080/",
          "height": 0
        },
        "id": "M-sMZp71m7Rf",
        "outputId": "f0482139-5147-4d7e-ec49-6530139e7a63"
      },
      "execution_count": 151,
      "outputs": [
        {
          "output_type": "stream",
          "name": "stdout",
          "text": [
            "<class 'int'>\n",
            "\n"
          ]
        }
      ]
    },
    {
      "cell_type": "code",
      "source": [
        "# convert type\n",
        "x = 100\n",
        "print(x,type(x))\n",
        "x = str(100)\n",
        "print(x,type(x))"
      ],
      "metadata": {
        "colab": {
          "base_uri": "https://localhost:8080/",
          "height": 0
        },
        "id": "FT96Lj-Wm7YY",
        "outputId": "490ec186-fc20-4c37-95c2-3f4da8233572"
      },
      "execution_count": 152,
      "outputs": [
        {
          "output_type": "stream",
          "name": "stdout",
          "text": [
            "100 <class 'int'>\n",
            "100 <class 'str'>\n"
          ]
        }
      ]
    },
    {
      "cell_type": "code",
      "source": [
        "# convert boolen true -> int 1\n",
        "y = False # T=1 ,F=0\n",
        "print(y,type(y))\n",
        "y1 = int(y)\n",
        "print(y1, type(y))"
      ],
      "metadata": {
        "colab": {
          "base_uri": "https://localhost:8080/",
          "height": 0
        },
        "id": "lufuGlugm7gm",
        "outputId": "7caa865c-e250-480c-fb77-e42cce6c35f6"
      },
      "execution_count": 153,
      "outputs": [
        {
          "output_type": "stream",
          "name": "stdout",
          "text": [
            "False <class 'bool'>\n",
            "0 <class 'bool'>\n"
          ]
        }
      ]
    },
    {
      "cell_type": "code",
      "source": [
        "# string : concat ต่อกัน\n",
        "text =\"hello\"\n",
        "text + text"
      ],
      "metadata": {
        "colab": {
          "base_uri": "https://localhost:8080/",
          "height": 34
        },
        "id": "1e5gJ-P9orZP",
        "outputId": "720bbe8e-924a-4bed-dbe5-bd6f9f623793"
      },
      "execution_count": 154,
      "outputs": [
        {
          "output_type": "execute_result",
          "data": {
            "text/plain": [
              "'hellohello'"
            ],
            "application/vnd.google.colaboratory.intrinsic+json": {
              "type": "string"
            }
          },
          "metadata": {},
          "execution_count": 154
        }
      ]
    },
    {
      "cell_type": "code",
      "source": [
        "#  type hint\n",
        "age : int = 34\n",
        "my_name : str = \"toy\"\n"
      ],
      "metadata": {
        "id": "c11lFWoro4jI"
      },
      "execution_count": 155,
      "outputs": []
    },
    {
      "cell_type": "code",
      "source": [
        "print (age , type (age))"
      ],
      "metadata": {
        "colab": {
          "base_uri": "https://localhost:8080/",
          "height": 0
        },
        "id": "mUSdslKQpkLd",
        "outputId": "f4ac2dc0-f4bd-4833-d8fe-089d78662b4d"
      },
      "execution_count": 156,
      "outputs": [
        {
          "output_type": "stream",
          "name": "stdout",
          "text": [
            "34 <class 'int'>\n"
          ]
        }
      ]
    },
    {
      "cell_type": "markdown",
      "source": [
        "### 2.function"
      ],
      "metadata": {
        "id": "ctJETO--qGjr"
      }
    },
    {
      "cell_type": "code",
      "source": [
        "print(pow(5,2))"
      ],
      "metadata": {
        "colab": {
          "base_uri": "https://localhost:8080/",
          "height": 0
        },
        "id": "JoooZ0hLpo3c",
        "outputId": "c2826d86-7ddd-4bd6-8acd-bb372c18eed1"
      },
      "execution_count": 157,
      "outputs": [
        {
          "output_type": "stream",
          "name": "stdout",
          "text": [
            "25\n"
          ]
        }
      ]
    },
    {
      "cell_type": "code",
      "source": [
        "# greeting : def สร้าง function ใหม่\n",
        "def greeting () :\n",
        "    print( \"hello!\" )\n"
      ],
      "metadata": {
        "id": "lLCRORcfqRhv"
      },
      "execution_count": 158,
      "outputs": []
    },
    {
      "cell_type": "code",
      "source": [
        "greeting()"
      ],
      "metadata": {
        "colab": {
          "base_uri": "https://localhost:8080/",
          "height": 0
        },
        "id": "_vuRE2VYonig",
        "outputId": "5c0be594-741f-4a28-d82a-f51dc9ab26c9"
      },
      "execution_count": 159,
      "outputs": [
        {
          "output_type": "stream",
          "name": "stdout",
          "text": [
            "hello!\n"
          ]
        }
      ]
    },
    {
      "cell_type": "code",
      "source": [
        "#Ex2  input data เพิ่ม  parameter\n",
        "\n",
        "def greeting (name) :\n",
        "    print( \"hello!\" + name )"
      ],
      "metadata": {
        "id": "SMq5Vy4hoXoB"
      },
      "execution_count": 160,
      "outputs": []
    },
    {
      "cell_type": "code",
      "source": [
        "greeting(\"Lisa\")"
      ],
      "metadata": {
        "colab": {
          "base_uri": "https://localhost:8080/",
          "height": 0
        },
        "id": "GPNal036rB14",
        "outputId": "1563281b-ce4a-45ed-968a-b92c54d3db8a"
      },
      "execution_count": 161,
      "outputs": [
        {
          "output_type": "stream",
          "name": "stdout",
          "text": [
            "hello!Lisa\n"
          ]
        }
      ]
    },
    {
      "cell_type": "code",
      "source": [
        "# EX3 เปลี่ยน parameter\n",
        "\n",
        "def greeting (name= \"john\" , location = \"London\") :\n",
        "    print( \"hello!\" + name )\n",
        "    print( \" he is at \" + location)"
      ],
      "metadata": {
        "id": "D8V_0z8RrHfw"
      },
      "execution_count": 162,
      "outputs": []
    },
    {
      "cell_type": "code",
      "source": [
        "greeting(\"kook\")"
      ],
      "metadata": {
        "colab": {
          "base_uri": "https://localhost:8080/",
          "height": 0
        },
        "id": "HRRXuaRmr5Dm",
        "outputId": "94b4ec8f-8857-4144-cde8-303dbb51dcba"
      },
      "execution_count": 163,
      "outputs": [
        {
          "output_type": "stream",
          "name": "stdout",
          "text": [
            "hello!kook\n",
            " he is at London\n"
          ]
        }
      ]
    },
    {
      "cell_type": "code",
      "source": [
        "#สร้างฟังก์ชั่น บวกเลขเอง\n",
        "def add_two_nums( x , y ) :\n",
        "    print (x+y)\n"
      ],
      "metadata": {
        "id": "iRGtpG1Gr8-W"
      },
      "execution_count": 164,
      "outputs": []
    },
    {
      "cell_type": "code",
      "source": [
        "add_two_nums(5,6)"
      ],
      "metadata": {
        "colab": {
          "base_uri": "https://localhost:8080/",
          "height": 0
        },
        "id": "VhDatUd6sjOi",
        "outputId": "217c448c-2fb9-409c-d33f-d34f238b374c"
      },
      "execution_count": 165,
      "outputs": [
        {
          "output_type": "stream",
          "name": "stdout",
          "text": [
            "11\n"
          ]
        }
      ]
    },
    {
      "cell_type": "code",
      "source": [
        "# ให้ function return ค่า = ส่งค่าไป result ไปฝากตัวแปรใหม่\n",
        "def add_two_nums( x , y ) :\n",
        "    return x+y\n",
        "\n",
        "\n"
      ],
      "metadata": {
        "id": "QUyG2IqJsmBp"
      },
      "execution_count": 166,
      "outputs": []
    },
    {
      "cell_type": "code",
      "source": [
        "\n",
        "def add_two_nums( x , y ) :\n",
        "    print ( \" you input two number for add\")\n",
        "    return x+y"
      ],
      "metadata": {
        "id": "3qH3xSedwvuy"
      },
      "execution_count": 167,
      "outputs": []
    },
    {
      "cell_type": "code",
      "source": [
        "result = add_two_nums(5,6)\n",
        "print (result)\n"
      ],
      "metadata": {
        "colab": {
          "base_uri": "https://localhost:8080/",
          "height": 0
        },
        "id": "6AwQUOOmrDzA",
        "outputId": "2a07159e-978f-42ad-c0fa-76f65ddee7c7"
      },
      "execution_count": 168,
      "outputs": [
        {
          "output_type": "stream",
          "name": "stdout",
          "text": [
            " you input two number for add\n",
            "11\n"
          ]
        }
      ]
    },
    {
      "cell_type": "code",
      "source": [
        "#### Use hint\n",
        "\n",
        "def add_two_nums( x : int  , y : int ) :\n",
        "    return (x+y)"
      ],
      "metadata": {
        "id": "a9ll_hu5tdut"
      },
      "execution_count": 169,
      "outputs": []
    },
    {
      "cell_type": "code",
      "source": [
        "add_two_nums(1,3)"
      ],
      "metadata": {
        "colab": {
          "base_uri": "https://localhost:8080/",
          "height": 0
        },
        "id": "s7aJNxRDtz3F",
        "outputId": "c9c5feae-420c-44f9-83e7-bc1fb12a7a01"
      },
      "execution_count": 170,
      "outputs": [
        {
          "output_type": "execute_result",
          "data": {
            "text/plain": [
              "4"
            ]
          },
          "metadata": {},
          "execution_count": 170
        }
      ]
    },
    {
      "cell_type": "code",
      "source": [
        "# work with string -> \"\"\" for new line\n",
        "\n",
        "text = \"hello world\"\n",
        "\n",
        "long_text = \"\"\" this is a \n",
        "very long text \"\"\"\n",
        "\n",
        "print ( text )\n",
        "print ( long_text )"
      ],
      "metadata": {
        "colab": {
          "base_uri": "https://localhost:8080/",
          "height": 0
        },
        "id": "Ima87Y19t20F",
        "outputId": "97b7e778-779f-4ed9-c25e-e091547a9e74"
      },
      "execution_count": 171,
      "outputs": [
        {
          "output_type": "stream",
          "name": "stdout",
          "text": [
            "hello world\n",
            " this is a \n",
            "very long text \n"
          ]
        }
      ]
    },
    {
      "cell_type": "code",
      "source": [
        "### fstring <-  string template\n",
        "\n",
        "my_name = \" kook prin\"\n",
        "location  = \"thai\"\n",
        "\n",
        "text = f\" hi my name is {my_name} and i live in {location}\"\n",
        "\n",
        "print(text)"
      ],
      "metadata": {
        "colab": {
          "base_uri": "https://localhost:8080/",
          "height": 0
        },
        "id": "Dh3nV3fTukzm",
        "outputId": "8d974f77-1d53-4f29-c9dc-78575831a007"
      },
      "execution_count": 172,
      "outputs": [
        {
          "output_type": "stream",
          "name": "stdout",
          "text": [
            " hi my name is  kook prin and i live in thai\n"
          ]
        }
      ]
    },
    {
      "cell_type": "code",
      "source": [
        "text = \"a duck walk in to a bar\"\n",
        "print(text)"
      ],
      "metadata": {
        "colab": {
          "base_uri": "https://localhost:8080/",
          "height": 0
        },
        "id": "LIK1VPP2vJly",
        "outputId": "96127201-a75d-42af-8c49-0ecee230d008"
      },
      "execution_count": 173,
      "outputs": [
        {
          "output_type": "stream",
          "name": "stdout",
          "text": [
            "a duck walk in to a bar\n"
          ]
        }
      ]
    },
    {
      "cell_type": "code",
      "source": [
        "len(text)"
      ],
      "metadata": {
        "colab": {
          "base_uri": "https://localhost:8080/",
          "height": 0
        },
        "id": "XTvqCoJIvvnW",
        "outputId": "213fee84-88c1-4ab7-cb77-52dfe4e9dbde"
      },
      "execution_count": 174,
      "outputs": [
        {
          "output_type": "execute_result",
          "data": {
            "text/plain": [
              "23"
            ]
          },
          "metadata": {},
          "execution_count": 174
        }
      ]
    },
    {
      "cell_type": "code",
      "source": [
        "# slicing : ดึงตัวอักษรแต่ละตัวออกมา\n",
        "text[0]"
      ],
      "metadata": {
        "colab": {
          "base_uri": "https://localhost:8080/",
          "height": 34
        },
        "id": "nO7ci7yXv0R0",
        "outputId": "9303e143-e7f2-434b-844a-5d1c89c0034d"
      },
      "execution_count": 175,
      "outputs": [
        {
          "output_type": "execute_result",
          "data": {
            "text/plain": [
              "'a'"
            ],
            "application/vnd.google.colaboratory.intrinsic+json": {
              "type": "string"
            }
          },
          "metadata": {},
          "execution_count": 175
        }
      ]
    },
    {
      "cell_type": "code",
      "source": [
        "text[-1]"
      ],
      "metadata": {
        "colab": {
          "base_uri": "https://localhost:8080/",
          "height": 34
        },
        "id": "ho-YoeDpv7Ik",
        "outputId": "f7aaff4d-fdc8-4392-c2fc-cd7386227022"
      },
      "execution_count": 176,
      "outputs": [
        {
          "output_type": "execute_result",
          "data": {
            "text/plain": [
              "'r'"
            ],
            "application/vnd.google.colaboratory.intrinsic+json": {
              "type": "string"
            }
          },
          "metadata": {},
          "execution_count": 176
        }
      ]
    },
    {
      "cell_type": "code",
      "source": [
        "print(text[0],text[-1])"
      ],
      "metadata": {
        "colab": {
          "base_uri": "https://localhost:8080/",
          "height": 0
        },
        "id": "Ow16hETKwI1p",
        "outputId": "ced2b716-2e9f-4b18-8852-89fad4743418"
      },
      "execution_count": 177,
      "outputs": [
        {
          "output_type": "stream",
          "name": "stdout",
          "text": [
            "a r\n"
          ]
        }
      ]
    },
    {
      "cell_type": "code",
      "source": [
        "# slincing เป็น ช่วง\n",
        "\n",
        "text"
      ],
      "metadata": {
        "colab": {
          "base_uri": "https://localhost:8080/",
          "height": 34
        },
        "id": "n6uRYJN40M3F",
        "outputId": "fc22950c-3338-4d60-9ed1-000eb8240a11"
      },
      "execution_count": 178,
      "outputs": [
        {
          "output_type": "execute_result",
          "data": {
            "text/plain": [
              "'a duck walk in to a bar'"
            ],
            "application/vnd.google.colaboratory.intrinsic+json": {
              "type": "string"
            }
          },
          "metadata": {},
          "execution_count": 178
        }
      ]
    },
    {
      "cell_type": "code",
      "source": [
        "text[ 2 : 6 ] #5+1=6"
      ],
      "metadata": {
        "colab": {
          "base_uri": "https://localhost:8080/",
          "height": 34
        },
        "id": "7BjEFzTI0SVD",
        "outputId": "aceb59b7-6f43-44d3-8f11-c8bcf087e565"
      },
      "execution_count": 179,
      "outputs": [
        {
          "output_type": "execute_result",
          "data": {
            "text/plain": [
              "'duck'"
            ],
            "application/vnd.google.colaboratory.intrinsic+json": {
              "type": "string"
            }
          },
          "metadata": {},
          "execution_count": 179
        }
      ]
    },
    {
      "cell_type": "code",
      "source": [
        "text[12:18]"
      ],
      "metadata": {
        "colab": {
          "base_uri": "https://localhost:8080/",
          "height": 34
        },
        "id": "8T-TMxZA0biT",
        "outputId": "06c1676d-4de8-435b-906f-8603491fc0da"
      },
      "execution_count": 180,
      "outputs": [
        {
          "output_type": "execute_result",
          "data": {
            "text/plain": [
              "'in to '"
            ],
            "application/vnd.google.colaboratory.intrinsic+json": {
              "type": "string"
            }
          },
          "metadata": {},
          "execution_count": 180
        }
      ]
    },
    {
      "cell_type": "code",
      "source": [
        "text[7:]"
      ],
      "metadata": {
        "id": "jjvFKxi90rdh",
        "colab": {
          "base_uri": "https://localhost:8080/",
          "height": 34
        },
        "outputId": "8b24fb4a-fe7e-4b20-bb34-a0296d47a2fa"
      },
      "execution_count": 181,
      "outputs": [
        {
          "output_type": "execute_result",
          "data": {
            "text/plain": [
              "'walk in to a bar'"
            ],
            "application/vnd.google.colaboratory.intrinsic+json": {
              "type": "string"
            }
          },
          "metadata": {},
          "execution_count": 181
        }
      ]
    },
    {
      "cell_type": "code",
      "source": [
        "text[ -3 ]"
      ],
      "metadata": {
        "colab": {
          "base_uri": "https://localhost:8080/",
          "height": 34
        },
        "id": "GRl9cOqG03pi",
        "outputId": "2f2113e9-e821-4ca5-c746-b592b0511ccb"
      },
      "execution_count": 182,
      "outputs": [
        {
          "output_type": "execute_result",
          "data": {
            "text/plain": [
              "'b'"
            ],
            "application/vnd.google.colaboratory.intrinsic+json": {
              "type": "string"
            }
          },
          "metadata": {},
          "execution_count": 182
        }
      ]
    },
    {
      "cell_type": "code",
      "source": [
        "# string is inmutable\n",
        "\n",
        "name = \"python\"\n",
        "print(name[1 :])\n",
        "name = \"c\" + name[1: ]\n",
        "print(name)"
      ],
      "metadata": {
        "colab": {
          "base_uri": "https://localhost:8080/",
          "height": 0
        },
        "id": "QZVqr1js1DJ4",
        "outputId": "57ef0f75-1017-4e7d-f801-367856e149a9"
      },
      "execution_count": 183,
      "outputs": [
        {
          "output_type": "stream",
          "name": "stdout",
          "text": [
            "ython\n",
            "cython\n"
          ]
        }
      ]
    },
    {
      "cell_type": "code",
      "source": [
        "text = \"a duck walk in to a bar\"\n"
      ],
      "metadata": {
        "id": "LzaL8B491kxv"
      },
      "execution_count": 184,
      "outputs": []
    },
    {
      "cell_type": "code",
      "source": [],
      "metadata": {
        "id": "Yh3Jmr4L27VN"
      },
      "execution_count": 184,
      "outputs": []
    },
    {
      "cell_type": "code",
      "source": [
        "len (text)"
      ],
      "metadata": {
        "colab": {
          "base_uri": "https://localhost:8080/",
          "height": 0
        },
        "id": "O_yiilZF1uFV",
        "outputId": "9ccf4e36-2912-4dca-f036-487154fdd765"
      },
      "execution_count": 185,
      "outputs": [
        {
          "output_type": "execute_result",
          "data": {
            "text/plain": [
              "23"
            ]
          },
          "metadata": {},
          "execution_count": 185
        }
      ]
    },
    {
      "cell_type": "code",
      "source": [
        "# function vs method\n",
        "text.upper()\n"
      ],
      "metadata": {
        "colab": {
          "base_uri": "https://localhost:8080/",
          "height": 34
        },
        "id": "n6-QbINp1wRd",
        "outputId": "5937a863-154e-485d-cae0-a78b35e81c94"
      },
      "execution_count": 186,
      "outputs": [
        {
          "output_type": "execute_result",
          "data": {
            "text/plain": [
              "'A DUCK WALK IN TO A BAR'"
            ],
            "application/vnd.google.colaboratory.intrinsic+json": {
              "type": "string"
            }
          },
          "metadata": {},
          "execution_count": 186
        }
      ]
    },
    {
      "cell_type": "code",
      "source": [
        "text.title()"
      ],
      "metadata": {
        "colab": {
          "base_uri": "https://localhost:8080/",
          "height": 34
        },
        "id": "0hZ5WOC72V5W",
        "outputId": "b1e36cd6-0143-400e-a27c-9eb045647dd8"
      },
      "execution_count": 187,
      "outputs": [
        {
          "output_type": "execute_result",
          "data": {
            "text/plain": [
              "'A Duck Walk In To A Bar'"
            ],
            "application/vnd.google.colaboratory.intrinsic+json": {
              "type": "string"
            }
          },
          "metadata": {},
          "execution_count": 187
        }
      ]
    },
    {
      "cell_type": "code",
      "source": [
        "text.lower()"
      ],
      "metadata": {
        "colab": {
          "base_uri": "https://localhost:8080/",
          "height": 34
        },
        "id": "VR4rWFqB2GZj",
        "outputId": "b33d61d4-3ce3-4975-caee-b06c39e32739"
      },
      "execution_count": 188,
      "outputs": [
        {
          "output_type": "execute_result",
          "data": {
            "text/plain": [
              "'a duck walk in to a bar'"
            ],
            "application/vnd.google.colaboratory.intrinsic+json": {
              "type": "string"
            }
          },
          "metadata": {},
          "execution_count": 188
        }
      ]
    },
    {
      "cell_type": "code",
      "source": [
        "# Replace คำ\n",
        "text.replace( \"duck\",\"lion\" )"
      ],
      "metadata": {
        "colab": {
          "base_uri": "https://localhost:8080/",
          "height": 34
        },
        "id": "z6a1cW9e2e7e",
        "outputId": "12ea26a2-ef26-4741-df46-408bcef07446"
      },
      "execution_count": 189,
      "outputs": [
        {
          "output_type": "execute_result",
          "data": {
            "text/plain": [
              "'a lion walk in to a bar'"
            ],
            "application/vnd.google.colaboratory.intrinsic+json": {
              "type": "string"
            }
          },
          "metadata": {},
          "execution_count": 189
        }
      ]
    },
    {
      "cell_type": "code",
      "source": [
        "# ตัดคำ split = token\n",
        "\n",
        "words = text.split(\" \") \n",
        "print(words)"
      ],
      "metadata": {
        "colab": {
          "base_uri": "https://localhost:8080/",
          "height": 0
        },
        "id": "R1SryjTe2rRB",
        "outputId": "bc7516b0-f9c8-49f7-da87-6e6770716c38"
      },
      "execution_count": 190,
      "outputs": [
        {
          "output_type": "stream",
          "name": "stdout",
          "text": [
            "['a', 'duck', 'walk', 'in', 'to', 'a', 'bar']\n"
          ]
        }
      ]
    },
    {
      "cell_type": "code",
      "source": [
        "words"
      ],
      "metadata": {
        "colab": {
          "base_uri": "https://localhost:8080/",
          "height": 0
        },
        "id": "I534Bb732_x7",
        "outputId": "2153cdc6-699c-42f4-8a8f-d412bb7e77cd"
      },
      "execution_count": 191,
      "outputs": [
        {
          "output_type": "execute_result",
          "data": {
            "text/plain": [
              "['a', 'duck', 'walk', 'in', 'to', 'a', 'bar']"
            ]
          },
          "metadata": {},
          "execution_count": 191
        }
      ]
    },
    {
      "cell_type": "code",
      "source": [
        "# เชื่อมคำ เชื่อมด้วยเครื่องหมาย \" \"\n",
        "\n",
        "\" \".join(words)"
      ],
      "metadata": {
        "colab": {
          "base_uri": "https://localhost:8080/",
          "height": 34
        },
        "id": "GiK9cU1n3CqD",
        "outputId": "6abdc6ca-96b7-49fa-b73a-17603202af28"
      },
      "execution_count": 192,
      "outputs": [
        {
          "output_type": "execute_result",
          "data": {
            "text/plain": [
              "'a duck walk in to a bar'"
            ],
            "application/vnd.google.colaboratory.intrinsic+json": {
              "type": "string"
            }
          },
          "metadata": {},
          "execution_count": 192
        }
      ]
    },
    {
      "cell_type": "markdown",
      "source": [
        "###  3. data structure\n",
        "\n",
        "#### 1. list [ ]\n",
        "#### 2. tuple ()\n",
        "#### 3. dictionaly {}\n",
        "#### 4. set {unique}"
      ],
      "metadata": {
        "id": "dQre6wEt3ut0"
      }
    },
    {
      "cell_type": "code",
      "source": [
        "### 3. data structure\n",
        "\n",
        "#  1. list []\n",
        "#  2. tuple ()\n",
        "#  3. dictionaly {}\n",
        "#  4. set {unique}"
      ],
      "metadata": {
        "id": "G_XR9ySp3tWl"
      },
      "execution_count": 193,
      "outputs": []
    },
    {
      "cell_type": "code",
      "source": [
        "# list -> เปลี่ยน update ค่าได้\n",
        "shopping_items = [ \"banana\",\"egg\",\"milk\" ]\n",
        "\n",
        "shopping_items[0] = \"mango\"\n",
        "\n",
        "\n",
        "print (shopping_items)"
      ],
      "metadata": {
        "colab": {
          "base_uri": "https://localhost:8080/",
          "height": 0
        },
        "id": "SE3XMiD33NUb",
        "outputId": "a91f111c-00d8-494e-b84a-6eef9cc27e0d"
      },
      "execution_count": 194,
      "outputs": [
        {
          "output_type": "stream",
          "name": "stdout",
          "text": [
            "['mango', 'egg', 'milk']\n"
          ]
        }
      ]
    },
    {
      "cell_type": "markdown",
      "source": [
        "#### append"
      ],
      "metadata": {
        "id": "G-4C-vi4t-SQ"
      }
    },
    {
      "cell_type": "code",
      "source": [
        "# list method\n",
        "# append() = ต่อกัน\n",
        "\n",
        "shopping_items.append(\"longan\")\n",
        "print (shopping_items)"
      ],
      "metadata": {
        "colab": {
          "base_uri": "https://localhost:8080/",
          "height": 0
        },
        "id": "p3GWlH-P2yEt",
        "outputId": "7c853667-b5d0-4b2f-9726-7a4ad94c37d9"
      },
      "execution_count": 195,
      "outputs": [
        {
          "output_type": "stream",
          "name": "stdout",
          "text": [
            "['mango', 'egg', 'milk', 'longan']\n"
          ]
        }
      ]
    },
    {
      "cell_type": "markdown",
      "source": [
        "#### sort"
      ],
      "metadata": {
        "id": "HQt2kcUGuHeo"
      }
    },
    {
      "cell_type": "code",
      "source": [
        "# sort item\n",
        "\n",
        "shopping_items.sort()\n",
        "print (shopping_items)"
      ],
      "metadata": {
        "colab": {
          "base_uri": "https://localhost:8080/",
          "height": 0
        },
        "id": "F-5ENkuY5L2e",
        "outputId": "fbeebba0-f014-425c-8e55-cb30353555e5"
      },
      "execution_count": 196,
      "outputs": [
        {
          "output_type": "stream",
          "name": "stdout",
          "text": [
            "['egg', 'longan', 'mango', 'milk']\n"
          ]
        }
      ]
    },
    {
      "cell_type": "code",
      "source": [
        "shopping_items.sort(reverse=True) # desc\n",
        "print (shopping_items)"
      ],
      "metadata": {
        "colab": {
          "base_uri": "https://localhost:8080/",
          "height": 0
        },
        "id": "lbpojI372Z5m",
        "outputId": "271b4dea-9da0-4617-bd64-37b4220083f3"
      },
      "execution_count": 197,
      "outputs": [
        {
          "output_type": "stream",
          "name": "stdout",
          "text": [
            "['milk', 'mango', 'longan', 'egg']\n"
          ]
        }
      ]
    },
    {
      "cell_type": "code",
      "source": [
        "scores = [ 88,90,87,85]"
      ],
      "metadata": {
        "id": "_xP2kJnk1iU_"
      },
      "execution_count": 198,
      "outputs": []
    },
    {
      "cell_type": "code",
      "source": [
        "print ( sum(scores) , min(scores),len(scores))"
      ],
      "metadata": {
        "colab": {
          "base_uri": "https://localhost:8080/",
          "height": 0
        },
        "id": "drpUmfUa54N3",
        "outputId": "270bc2a8-8dfa-4ee3-a207-fe4636edfd3e"
      },
      "execution_count": 199,
      "outputs": [
        {
          "output_type": "stream",
          "name": "stdout",
          "text": [
            "350 85 4\n"
          ]
        }
      ]
    },
    {
      "cell_type": "code",
      "source": [
        "# average\n",
        "print(sum(scores) / len(scores))"
      ],
      "metadata": {
        "colab": {
          "base_uri": "https://localhost:8080/",
          "height": 0
        },
        "id": "C0BvS7qc6klX",
        "outputId": "6c0636f5-5340-4d4c-83b7-b5a19b0ec0ea"
      },
      "execution_count": 200,
      "outputs": [
        {
          "output_type": "stream",
          "name": "stdout",
          "text": [
            "87.5\n"
          ]
        }
      ]
    },
    {
      "cell_type": "code",
      "source": [
        "# ประกาศ function\n",
        "\n",
        "def mean_score(scores) :\n",
        "  return sum(scores) / len(scores)"
      ],
      "metadata": {
        "id": "gjyeb5hl6F2C"
      },
      "execution_count": 201,
      "outputs": []
    },
    {
      "cell_type": "code",
      "source": [
        "# เรียกใช้งาน mean_score\n",
        "scores = [ 88,90,87,85]\n",
        "\n",
        "print(len(scores) , sum(scores) , \n",
        "      min(scores), max(scores),\n",
        "      mean_score(scores))\n"
      ],
      "metadata": {
        "colab": {
          "base_uri": "https://localhost:8080/",
          "height": 0
        },
        "id": "O0Yrz5796cQX",
        "outputId": "478a3378-7f5d-44ad-c14a-3a3866b22c21"
      },
      "execution_count": 202,
      "outputs": [
        {
          "output_type": "stream",
          "name": "stdout",
          "text": [
            "4 350 85 90 87.5\n"
          ]
        }
      ]
    },
    {
      "cell_type": "markdown",
      "source": [
        "#### pop ( )"
      ],
      "metadata": {
        "id": "z1FyP6KryhNq"
      }
    },
    {
      "cell_type": "code",
      "source": [
        "# Remove ตัวสุดท้ายทิ้ว\n",
        "print(shopping_items)\n",
        "shopping_items.pop()\n",
        "shopping_items"
      ],
      "metadata": {
        "colab": {
          "base_uri": "https://localhost:8080/",
          "height": 0
        },
        "id": "GFeoI9gj6gWX",
        "outputId": "8d41478e-f622-4a73-adfd-660dcea01376"
      },
      "execution_count": 203,
      "outputs": [
        {
          "output_type": "stream",
          "name": "stdout",
          "text": [
            "['milk', 'mango', 'longan', 'egg']\n"
          ]
        },
        {
          "output_type": "execute_result",
          "data": {
            "text/plain": [
              "['milk', 'mango', 'longan']"
            ]
          },
          "metadata": {},
          "execution_count": 203
        }
      ]
    },
    {
      "cell_type": "code",
      "source": [
        "# append\n",
        "shopping_items.append(\"egg\")"
      ],
      "metadata": {
        "id": "37IrvXql6-wQ"
      },
      "execution_count": 204,
      "outputs": []
    },
    {
      "cell_type": "markdown",
      "source": [
        "#### remove (\"...\")"
      ],
      "metadata": {
        "id": "kdhZdjKvymBB"
      }
    },
    {
      "cell_type": "code",
      "source": [
        "# remove ตัวอื่น ไม่ใช่ตัวสุดท้าย\n",
        "shopping_items.remove(\"mango\")\n",
        "shopping_items"
      ],
      "metadata": {
        "colab": {
          "base_uri": "https://localhost:8080/",
          "height": 0
        },
        "id": "eNdBEhlB7Cc4",
        "outputId": "e64ada50-9eff-41ee-b523-8c6f5a938075"
      },
      "execution_count": 205,
      "outputs": [
        {
          "output_type": "execute_result",
          "data": {
            "text/plain": [
              "['milk', 'longan', 'egg']"
            ]
          },
          "metadata": {},
          "execution_count": 205
        }
      ]
    },
    {
      "cell_type": "markdown",
      "source": [
        "#### insert (ตำแหน่ง , \"...\")"
      ],
      "metadata": {
        "id": "DipnlTsPysH8"
      }
    },
    {
      "cell_type": "code",
      "source": [
        "# insert new items\n",
        "#.insert()\n",
        "shopping_items.insert(1,\"vetgetable\")\n",
        "shopping_items"
      ],
      "metadata": {
        "colab": {
          "base_uri": "https://localhost:8080/",
          "height": 0
        },
        "id": "uuIHw7Gz7Y7M",
        "outputId": "4745ce22-6f1b-439e-dcf6-fb9b70c04fd6"
      },
      "execution_count": 206,
      "outputs": [
        {
          "output_type": "execute_result",
          "data": {
            "text/plain": [
              "['milk', 'vetgetable', 'longan', 'egg']"
            ]
          },
          "metadata": {},
          "execution_count": 206
        }
      ]
    },
    {
      "cell_type": "code",
      "source": [
        "# list [ ] + list [ ]\n",
        "\n",
        "items1 = [ \"egg\" , \" milk\"]\n",
        "item2 = [ \" banana\" , \" bread\"]\n",
        "items1 + item2"
      ],
      "metadata": {
        "colab": {
          "base_uri": "https://localhost:8080/",
          "height": 0
        },
        "id": "Db-ZGsiQ7pBh",
        "outputId": "7297b7f0-acf4-44b0-8386-b1f29e6d88ca"
      },
      "execution_count": 207,
      "outputs": [
        {
          "output_type": "execute_result",
          "data": {
            "text/plain": [
              "['egg', ' milk', ' banana', ' bread']"
            ]
          },
          "metadata": {},
          "execution_count": 207
        }
      ]
    },
    {
      "cell_type": "markdown",
      "source": [
        "### Tuple : เก็บค่าที่ไม่ต้องการเปลี่ยนค่า"
      ],
      "metadata": {
        "id": "mF0nM16F8Eif"
      }
    },
    {
      "cell_type": "code",
      "source": [
        "## tuple =inmutable > no update ค่า"
      ],
      "metadata": {
        "id": "f8i1vm9Q79_Y"
      },
      "execution_count": 208,
      "outputs": []
    },
    {
      "cell_type": "code",
      "source": [
        "# tuple () \n",
        "tup_item = (\"egg\" , \" banana\",\"peppsi\",\"egg\")"
      ],
      "metadata": {
        "id": "ASTXRRjo7lMh"
      },
      "execution_count": null,
      "outputs": []
    },
    {
      "cell_type": "code",
      "source": [
        "tup_item.count(\"egg\")\n"
      ],
      "metadata": {
        "colab": {
          "base_uri": "https://localhost:8080/"
        },
        "id": "Afo-QeVn8cam",
        "outputId": "d3410db3-eb8b-4e25-ed01-580ede37a2b7"
      },
      "execution_count": null,
      "outputs": [
        {
          "output_type": "execute_result",
          "data": {
            "text/plain": [
              "2"
            ]
          },
          "metadata": {},
          "execution_count": 104
        }
      ]
    },
    {
      "cell_type": "code",
      "source": [
        "s1 = (\"id1\" , \"12345\")\n",
        "s2 = (\"id2\" , \"44253\")\n",
        "user_pw = (s1,s2)\n",
        "\n",
        "print(user_pw)"
      ],
      "metadata": {
        "id": "nZ-pCM618h80",
        "colab": {
          "base_uri": "https://localhost:8080/",
          "height": 0
        },
        "outputId": "e9ab5051-5255-47ba-c6a8-247a31749df1"
      },
      "execution_count": 213,
      "outputs": [
        {
          "output_type": "stream",
          "name": "stdout",
          "text": [
            "(('id1', '12345'), ('id2', '44253'))\n"
          ]
        }
      ]
    },
    {
      "cell_type": "code",
      "source": [
        "# tuple unpacking กระจายค่า\n",
        "username , password = s1\n",
        "s1"
      ],
      "metadata": {
        "colab": {
          "base_uri": "https://localhost:8080/",
          "height": 0
        },
        "id": "7UoEW-f885yr",
        "outputId": "56e7ecf7-0850-40c8-f073-3beb6f9a5c9c"
      },
      "execution_count": 217,
      "outputs": [
        {
          "output_type": "execute_result",
          "data": {
            "text/plain": [
              "('id1', '12345')"
            ]
          },
          "metadata": {},
          "execution_count": 217
        }
      ]
    },
    {
      "cell_type": "code",
      "source": [
        "# Unpack 3 varliable\n",
        "\n",
        "name,age,gpa = (\"kook\", 44, 3.75  )\n",
        "print(name , age,gpa)"
      ],
      "metadata": {
        "colab": {
          "base_uri": "https://localhost:8080/",
          "height": 0
        },
        "id": "Qpc2Yzra8_Qz",
        "outputId": "eb6fafb9-7465-4fa5-8cfa-e3604391067f"
      },
      "execution_count": 218,
      "outputs": [
        {
          "output_type": "stream",
          "name": "stdout",
          "text": [
            "kook 44 3.75\n"
          ]
        }
      ]
    },
    {
      "cell_type": "markdown",
      "source": [
        "### Dictionary"
      ],
      "metadata": {
        "id": "chd0FA-P06f4"
      }
    },
    {
      "cell_type": "code",
      "source": [
        "# dictionay > mutable\n",
        "\n",
        "course = {\n",
        "    \"name\" : \" data science bootcamp\",\n",
        "    \"duration\" : \"4 months\",\n",
        "    \"skill \" : [ \"google sheet\" , \"dashboard\",\"SQL\",\"R\",\"python\" ],\n",
        "    \"student\" : 200\n",
        "\n",
        "}"
      ],
      "metadata": {
        "id": "v2sD2pLg-JaC"
      },
      "execution_count": 219,
      "outputs": []
    },
    {
      "cell_type": "code",
      "source": [
        "course"
      ],
      "metadata": {
        "colab": {
          "base_uri": "https://localhost:8080/",
          "height": 0
        },
        "id": "L2xfB_0c-u_Q",
        "outputId": "454fc56c-5ffa-4678-84ce-d8008f3a1c93"
      },
      "execution_count": 220,
      "outputs": [
        {
          "output_type": "execute_result",
          "data": {
            "text/plain": [
              "{'name': ' data science bootcamp',\n",
              " 'duration': '4 months',\n",
              " 'skill ': ['google sheet', 'dashboard', 'SQL', 'R', 'python'],\n",
              " 'student': 200}"
            ]
          },
          "metadata": {},
          "execution_count": 220
        }
      ]
    },
    {
      "cell_type": "code",
      "source": [
        "# ดึงค่าข้อมูลด้วย - - >Key\n",
        "course[\"student\"]"
      ],
      "metadata": {
        "colab": {
          "base_uri": "https://localhost:8080/",
          "height": 0
        },
        "id": "y1pN_O4a-4IW",
        "outputId": "9384ba98-90ce-4855-aa93-4954c58dc1c0"
      },
      "execution_count": 221,
      "outputs": [
        {
          "output_type": "execute_result",
          "data": {
            "text/plain": [
              "200"
            ]
          },
          "metadata": {},
          "execution_count": 221
        }
      ]
    },
    {
      "cell_type": "code",
      "source": [
        "# เพิ่ม key ใหม่\n",
        "course[\"start time\"] = \"9am\"\n",
        "course"
      ],
      "metadata": {
        "colab": {
          "base_uri": "https://localhost:8080/",
          "height": 0
        },
        "id": "DrDEgKiu-_T9",
        "outputId": "28712458-2492-4718-bbdd-5460525b3f4e"
      },
      "execution_count": 222,
      "outputs": [
        {
          "output_type": "execute_result",
          "data": {
            "text/plain": [
              "{'name': ' data science bootcamp',\n",
              " 'duration': '4 months',\n",
              " 'skill ': ['google sheet', 'dashboard', 'SQL', 'R', 'python'],\n",
              " 'student': 200,\n",
              " 'start time': '9am'}"
            ]
          },
          "metadata": {},
          "execution_count": 222
        }
      ]
    },
    {
      "cell_type": "code",
      "source": [
        "# ลบ key ทิ้ง\n",
        "del course[\"start time\"]\n",
        "course"
      ],
      "metadata": {
        "colab": {
          "base_uri": "https://localhost:8080/",
          "height": 0
        },
        "id": "fMUuuEXf_R7h",
        "outputId": "3b063623-72d7-437c-c0ca-30d03db634dd"
      },
      "execution_count": 223,
      "outputs": [
        {
          "output_type": "execute_result",
          "data": {
            "text/plain": [
              "{'name': ' data science bootcamp',\n",
              " 'duration': '4 months',\n",
              " 'skill ': ['google sheet', 'dashboard', 'SQL', 'R', 'python'],\n",
              " 'student': 200}"
            ]
          },
          "metadata": {},
          "execution_count": 223
        }
      ]
    },
    {
      "cell_type": "code",
      "source": [
        "# change ค่า\n",
        "course[\"student\"] = 300\n",
        "course"
      ],
      "metadata": {
        "colab": {
          "base_uri": "https://localhost:8080/"
        },
        "id": "tQud25iu_zqe",
        "outputId": "9c834098-67ee-46af-f7a9-4c02905c83d6"
      },
      "execution_count": null,
      "outputs": [
        {
          "output_type": "execute_result",
          "data": {
            "text/plain": [
              "{'name': ' data science bootcamp',\n",
              " 'duration': '4 months',\n",
              " 'skill ': ['google sheet', 'dashboard', 'SQL', 'R', 'python'],\n",
              " 'student': 300}"
            ]
          },
          "metadata": {},
          "execution_count": 120
        }
      ]
    },
    {
      "cell_type": "code",
      "source": [
        "# ดึง subset ออกมา\n",
        "course[\"skill \"] [-3:]\n"
      ],
      "metadata": {
        "colab": {
          "base_uri": "https://localhost:8080/"
        },
        "id": "I77yEQcW_8md",
        "outputId": "8a6fbf67-8290-40d6-a5b3-70a0298c1e76"
      },
      "execution_count": null,
      "outputs": [
        {
          "output_type": "execute_result",
          "data": {
            "text/plain": [
              "['SQL', 'R', 'python']"
            ]
          },
          "metadata": {},
          "execution_count": 124
        }
      ]
    },
    {
      "cell_type": "code",
      "source": [
        "list(course.keys())  # อยากรู้ key => column"
      ],
      "metadata": {
        "colab": {
          "base_uri": "https://localhost:8080/"
        },
        "id": "AmGq0_4X_ruA",
        "outputId": "dfb83348-f3cf-428a-a77f-d77ec9ce7a04"
      },
      "execution_count": null,
      "outputs": [
        {
          "output_type": "execute_result",
          "data": {
            "text/plain": [
              "['name', 'duration', 'skill ', 'student']"
            ]
          },
          "metadata": {},
          "execution_count": 125
        }
      ]
    },
    {
      "cell_type": "code",
      "source": [
        "course.values()"
      ],
      "metadata": {
        "colab": {
          "base_uri": "https://localhost:8080/",
          "height": 0
        },
        "id": "N328ELh71yWh",
        "outputId": "fb162608-9b06-44d9-a619-3c8a29ab2bf3"
      },
      "execution_count": 224,
      "outputs": [
        {
          "output_type": "execute_result",
          "data": {
            "text/plain": [
              "dict_values([' data science bootcamp', '4 months', ['google sheet', 'dashboard', 'SQL', 'R', 'python'], 200])"
            ]
          },
          "metadata": {},
          "execution_count": 224
        }
      ]
    },
    {
      "cell_type": "code",
      "source": [
        "list(course.values())"
      ],
      "metadata": {
        "colab": {
          "base_uri": "https://localhost:8080/",
          "height": 0
        },
        "id": "LwDxQRCE14_Y",
        "outputId": "09635efe-8c9c-4510-b703-442c83106845"
      },
      "execution_count": 227,
      "outputs": [
        {
          "output_type": "execute_result",
          "data": {
            "text/plain": [
              "[' data science bootcamp',\n",
              " '4 months',\n",
              " ['google sheet', 'dashboard', 'SQL', 'R', 'python'],\n",
              " 200]"
            ]
          },
          "metadata": {},
          "execution_count": 227
        }
      ]
    },
    {
      "cell_type": "code",
      "source": [
        "# ส่งค่าเป็นคู่ dictionary"
      ],
      "metadata": {
        "id": "l9F-y_m42Agl"
      },
      "execution_count": null,
      "outputs": []
    },
    {
      "cell_type": "code",
      "source": [
        "course.items()"
      ],
      "metadata": {
        "colab": {
          "base_uri": "https://localhost:8080/"
        },
        "id": "kTSPDZUXAfjT",
        "outputId": "0f89dd14-afaf-464d-af78-fde1abd4d6be"
      },
      "execution_count": null,
      "outputs": [
        {
          "output_type": "execute_result",
          "data": {
            "text/plain": [
              "dict_items([('name', ' data science bootcamp'), ('duration', '4 months'), ('skill ', ['google sheet', 'dashboard', 'SQL', 'R', 'python']), ('student', 300)])"
            ]
          },
          "metadata": {},
          "execution_count": 126
        }
      ]
    },
    {
      "cell_type": "code",
      "source": [
        "list(course.items())"
      ],
      "metadata": {
        "colab": {
          "base_uri": "https://localhost:8080/"
        },
        "id": "xuAAJIruAoJS",
        "outputId": "6adbbc03-8243-4b0f-ee36-d64943be5db4"
      },
      "execution_count": null,
      "outputs": [
        {
          "output_type": "execute_result",
          "data": {
            "text/plain": [
              "[('name', ' data science bootcamp'),\n",
              " ('duration', '4 months'),\n",
              " ('skill ', ['google sheet', 'dashboard', 'SQL', 'R', 'python']),\n",
              " ('student', 300)]"
            ]
          },
          "metadata": {},
          "execution_count": 127
        }
      ]
    },
    {
      "cell_type": "code",
      "source": [
        "# get\n",
        "course.get(\"student\")"
      ],
      "metadata": {
        "colab": {
          "base_uri": "https://localhost:8080/"
        },
        "id": "wz2cJiGbAs4K",
        "outputId": "4253b0e3-6698-48a8-af15-970c97446004"
      },
      "execution_count": null,
      "outputs": [
        {
          "output_type": "execute_result",
          "data": {
            "text/plain": [
              "300"
            ]
          },
          "metadata": {},
          "execution_count": 128
        }
      ]
    },
    {
      "cell_type": "code",
      "source": [
        "#-----------------------------"
      ],
      "metadata": {
        "id": "5Xw7eNL3-1fo"
      },
      "execution_count": null,
      "outputs": []
    },
    {
      "cell_type": "code",
      "source": [
        "# set {unique}\n",
        "\n",
        "course = [\"python\",\"R\" , \"python\",\"SQL\"]\n",
        "course"
      ],
      "metadata": {
        "colab": {
          "base_uri": "https://localhost:8080/"
        },
        "id": "NHVHVV4q9OVy",
        "outputId": "a69ff013-709c-4e64-d0f9-b15c1c3d8b0d"
      },
      "execution_count": null,
      "outputs": [
        {
          "output_type": "execute_result",
          "data": {
            "text/plain": [
              "['python', 'R', 'python', 'SQL']"
            ]
          },
          "metadata": {},
          "execution_count": 112
        }
      ]
    },
    {
      "cell_type": "code",
      "source": [
        "set(course) # ไม่นับซ้ำ"
      ],
      "metadata": {
        "colab": {
          "base_uri": "https://localhost:8080/"
        },
        "id": "fPZRjqxK9x07",
        "outputId": "519462c3-1753-4313-8dea-3fbe96d13ff7"
      },
      "execution_count": null,
      "outputs": [
        {
          "output_type": "execute_result",
          "data": {
            "text/plain": [
              "{'R', 'SQL', 'python'}"
            ]
          },
          "metadata": {},
          "execution_count": 111
        }
      ]
    },
    {
      "cell_type": "code",
      "source": [
        "# dictionay , list -> mutable\n",
        "# tuple , string  - > immutable อัพเดทค่าไม่ได้"
      ],
      "metadata": {
        "id": "OI864ZkI94GB"
      },
      "execution_count": null,
      "outputs": []
    },
    {
      "cell_type": "code",
      "source": [
        "####################### \n"
      ],
      "metadata": {
        "id": "Vstz460N9wTr"
      },
      "execution_count": null,
      "outputs": []
    },
    {
      "cell_type": "markdown",
      "source": [
        "### Control flow\n",
        "# 1. if\n",
        "# 2. for\n",
        "# 3. while"
      ],
      "metadata": {
        "id": "5tP1CmFLBam8"
      }
    },
    {
      "cell_type": "markdown",
      "source": [
        "### IF"
      ],
      "metadata": {
        "id": "2dz1W0DRD3hM"
      }
    },
    {
      "cell_type": "code",
      "source": [
        "# if\n",
        "\n",
        "score = 125\n",
        "if score >= 120 :\n",
        "  print ( \" pass \" )\n",
        "else :\n",
        "  print ( \" fail \" )\n",
        "\n"
      ],
      "metadata": {
        "colab": {
          "base_uri": "https://localhost:8080/",
          "height": 0
        },
        "id": "1mNvjz2Z6w9j",
        "outputId": "ac87f2ff-16d7-4863-d21e-017fcaf2ff7a"
      },
      "execution_count": 229,
      "outputs": [
        {
          "output_type": "stream",
          "name": "stdout",
          "text": [
            " pass \n"
          ]
        }
      ]
    },
    {
      "cell_type": "code",
      "source": [
        "# creat function grate\n",
        "\n",
        "def grade (score) :\n",
        "    if score >= 120 :\n",
        "        print ( \" pass \" )\n",
        "    else :\n",
        "        print ( \" fail \" )\n",
        "\n"
      ],
      "metadata": {
        "id": "I-iDrHIg1AH4"
      },
      "execution_count": 231,
      "outputs": []
    },
    {
      "cell_type": "code",
      "source": [
        "# test function\n",
        "\n",
        "grade (125)"
      ],
      "metadata": {
        "colab": {
          "base_uri": "https://localhost:8080/",
          "height": 0
        },
        "id": "cE4562Iw4ooy",
        "outputId": "3814eba6-7ce9-41c8-8149-2e1d28e45419"
      },
      "execution_count": 232,
      "outputs": [
        {
          "output_type": "stream",
          "name": "stdout",
          "text": [
            " pass \n"
          ]
        }
      ]
    },
    {
      "cell_type": "code",
      "source": [
        "\n",
        "def grade (score) :\n",
        "    if score >= 120 :\n",
        "        return \" pass \" \n",
        "    else :\n",
        "        return \" failed \" \n",
        "\n",
        "## return +> ฝากค่าใหม่ชื่อ result ได้"
      ],
      "metadata": {
        "id": "Sdgxm3NM4vzn"
      },
      "execution_count": 233,
      "outputs": []
    },
    {
      "cell_type": "code",
      "source": [
        "result = grade(144)\n",
        "print(result)"
      ],
      "metadata": {
        "id": "AIlCzM9m07t4",
        "colab": {
          "base_uri": "https://localhost:8080/",
          "height": 0
        },
        "outputId": "31a94580-85a2-4a46-f0f9-b86dc4ba804c"
      },
      "execution_count": 234,
      "outputs": [
        {
          "output_type": "stream",
          "name": "stdout",
          "text": [
            " pass \n"
          ]
        }
      ]
    },
    {
      "cell_type": "code",
      "source": [
        "\n",
        "def grade (score) :\n",
        "    if score >= 120 :\n",
        "        return \" Excellent \" \n",
        "    elif score >= 100 :\n",
        "        return \" Good\"\n",
        "    elif score >= 80 :\n",
        "        return \" Okey\"\n",
        "    else :\n",
        "        return \" failed \" \n"
      ],
      "metadata": {
        "id": "RA5aQTkS0pxR"
      },
      "execution_count": 236,
      "outputs": []
    },
    {
      "cell_type": "code",
      "source": [
        "result = grade(95)\n",
        "print(result)"
      ],
      "metadata": {
        "colab": {
          "base_uri": "https://localhost:8080/",
          "height": 0
        },
        "id": "lHmsW9FC516_",
        "outputId": "b38c3238-823a-4f03-8f58-67a286f5bd3b"
      },
      "execution_count": 239,
      "outputs": [
        {
          "output_type": "stream",
          "name": "stdout",
          "text": [
            " Okey\n"
          ]
        }
      ]
    },
    {
      "cell_type": "code",
      "source": [
        "# Used And , Or\n",
        "\n",
        "# course == data science , score >= 80 passed\n",
        "# course == english , score >= 70 passed"
      ],
      "metadata": {
        "id": "eyIHbh8S57Vu"
      },
      "execution_count": null,
      "outputs": []
    },
    {
      "cell_type": "code",
      "source": [
        "def grade ( course , score ) :\n",
        "    if course == \"english\" and score >=70 :\n",
        "        return \"passed\"\n",
        "    elif course == \"data sciencr\" and score >= 80 :\n",
        "         return \"passed\"\n",
        "    else :\n",
        "        return \" failed \"\n",
        "\n"
      ],
      "metadata": {
        "id": "yRTDUTZv0nHh"
      },
      "execution_count": 240,
      "outputs": []
    },
    {
      "cell_type": "code",
      "source": [
        "result = grade(\"english\",80)\n",
        "print(result)"
      ],
      "metadata": {
        "colab": {
          "base_uri": "https://localhost:8080/",
          "height": 0
        },
        "id": "W_i95M057KSt",
        "outputId": "dc832192-47cc-415a-cb60-01e2f3f45b4c"
      },
      "execution_count": 244,
      "outputs": [
        {
          "output_type": "stream",
          "name": "stdout",
          "text": [
            "passed\n"
          ]
        }
      ]
    },
    {
      "cell_type": "code",
      "source": [],
      "metadata": {
        "id": "pwP8SbPs7aKE"
      },
      "execution_count": null,
      "outputs": []
    },
    {
      "cell_type": "markdown",
      "source": [
        "### for"
      ],
      "metadata": {
        "id": "7c7DImYlD0-j"
      }
    },
    {
      "cell_type": "code",
      "source": [
        "# For\n",
        "# if score >= 80  , passed\n",
        "\n",
        "\n",
        "scores = [88 , 90 , 75]\n",
        "\n",
        "for score in scores :\n",
        "    print(score)\n"
      ],
      "metadata": {
        "id": "19aDGr6o0Wsz",
        "colab": {
          "base_uri": "https://localhost:8080/",
          "height": 0
        },
        "outputId": "4b3a6f64-2c7f-430b-b42a-bbefd0afadac"
      },
      "execution_count": 246,
      "outputs": [
        {
          "output_type": "stream",
          "name": "stdout",
          "text": [
            "88\n",
            "90\n",
            "75\n"
          ]
        }
      ]
    },
    {
      "cell_type": "code",
      "source": [],
      "metadata": {
        "id": "cwrm2VWt8Nwy"
      },
      "execution_count": null,
      "outputs": []
    },
    {
      "cell_type": "code",
      "source": [
        "\n",
        "# update score\n",
        "scores = [88 , 90 , 75]\n",
        "\n",
        "new_score = []   # new_score บรรทัดล่าง เอามาใส่ อัพเดท ตรงนี้\n",
        "for score in scores :\n",
        "    new_score.append(score-2)\n",
        "\n",
        "print( new_score)"
      ],
      "metadata": {
        "id": "g6x8b_e4EnSk",
        "colab": {
          "base_uri": "https://localhost:8080/",
          "height": 0
        },
        "outputId": "5340f8ba-8b27-457a-a518-ccf61cc1a92a"
      },
      "execution_count": 248,
      "outputs": [
        {
          "output_type": "stream",
          "name": "stdout",
          "text": [
            "[86, 88, 73]\n"
          ]
        }
      ]
    },
    {
      "cell_type": "code",
      "source": [],
      "metadata": {
        "id": "iW0uja3q81ez"
      },
      "execution_count": null,
      "outputs": []
    },
    {
      "cell_type": "code",
      "source": [
        "def grading_all(scores) :\n",
        "    new_score = []\n",
        "    for score in scores :\n",
        "     new_score.append(score+2)\n",
        "    return new_score\n"
      ],
      "metadata": {
        "id": "LwYwaAwdExCs"
      },
      "execution_count": 249,
      "outputs": []
    },
    {
      "cell_type": "code",
      "source": [
        "grading_all( [ 75 , 99 , 85 , 84 ] )\n"
      ],
      "metadata": {
        "colab": {
          "base_uri": "https://localhost:8080/",
          "height": 0
        },
        "id": "HnKXvFmN9MBJ",
        "outputId": "afcd5ad4-7175-40c6-ac2b-4ef0d03cd310"
      },
      "execution_count": 250,
      "outputs": [
        {
          "output_type": "execute_result",
          "data": {
            "text/plain": [
              "[77, 101, 87, 86]"
            ]
          },
          "metadata": {},
          "execution_count": 250
        }
      ]
    },
    {
      "cell_type": "code",
      "source": [],
      "metadata": {
        "id": "AbyD4VM-9dNC"
      },
      "execution_count": null,
      "outputs": []
    },
    {
      "cell_type": "code",
      "source": [
        "#---------"
      ],
      "metadata": {
        "id": "8R3VUxhTFROS"
      },
      "execution_count": null,
      "outputs": []
    },
    {
      "cell_type": "code",
      "source": [
        "# List comprehention"
      ],
      "metadata": {
        "id": "LSQKCN2LGBYF"
      },
      "execution_count": null,
      "outputs": []
    },
    {
      "cell_type": "code",
      "source": [
        "scores = [88 , 90 , 75]"
      ],
      "metadata": {
        "id": "fdrVteYmFHJ0"
      },
      "execution_count": 251,
      "outputs": []
    },
    {
      "cell_type": "code",
      "source": [
        "for s in scores :\n",
        "    print (s *2)"
      ],
      "metadata": {
        "colab": {
          "base_uri": "https://localhost:8080/",
          "height": 0
        },
        "id": "-GleOG0o9r56",
        "outputId": "c33e28a1-99e3-4e62-cefd-1d83df1e7e1e"
      },
      "execution_count": 252,
      "outputs": [
        {
          "output_type": "stream",
          "name": "stdout",
          "text": [
            "176\n",
            "180\n",
            "150\n"
          ]
        }
      ]
    },
    {
      "cell_type": "code",
      "source": [
        "[ s *2   for s in scores     ]\n",
        "\n",
        "# for s in scores :\n",
        "#     print (s *2)\n",
        "\n",
        "# ctr + /"
      ],
      "metadata": {
        "colab": {
          "base_uri": "https://localhost:8080/",
          "height": 0
        },
        "id": "6WnmIQ3592Cc",
        "outputId": "ea97d13f-e1c7-4548-f27f-84be31719e43"
      },
      "execution_count": 253,
      "outputs": [
        {
          "output_type": "execute_result",
          "data": {
            "text/plain": [
              "[176, 180, 150]"
            ]
          },
          "metadata": {},
          "execution_count": 253
        }
      ]
    },
    {
      "cell_type": "code",
      "source": [
        "new_s = [ s *2   for s in scores     ]\n",
        "new_s"
      ],
      "metadata": {
        "colab": {
          "base_uri": "https://localhost:8080/",
          "height": 0
        },
        "id": "Qvum3Ua2-lKP",
        "outputId": "e058ee00-7242-4a0a-ae5f-dbcef9a4f761"
      },
      "execution_count": 254,
      "outputs": [
        {
          "output_type": "execute_result",
          "data": {
            "text/plain": [
              "[176, 180, 150]"
            ]
          },
          "metadata": {},
          "execution_count": 254
        }
      ]
    },
    {
      "cell_type": "code",
      "source": [
        "friend = [ \"toy\" , \"kook\", \"nu\" , \"nok\" , \"mee\"]\n",
        "for f in friend :\n",
        "    print (f.upper())\n",
        "    "
      ],
      "metadata": {
        "colab": {
          "base_uri": "https://localhost:8080/",
          "height": 0
        },
        "id": "dAyuXoij-ur6",
        "outputId": "effc98f9-e7d9-4550-89d3-4c0bca0798b2"
      },
      "execution_count": 255,
      "outputs": [
        {
          "output_type": "stream",
          "name": "stdout",
          "text": [
            "TOY\n",
            "KOOK\n",
            "NU\n",
            "NOK\n",
            "MEE\n"
          ]
        }
      ]
    },
    {
      "cell_type": "code",
      "source": [
        "[ f.upper()   for f in friend  ]\n",
        "\n",
        "# for f in friend :\n",
        "#     print (f.upper())"
      ],
      "metadata": {
        "colab": {
          "base_uri": "https://localhost:8080/",
          "height": 0
        },
        "id": "vnetUkgM_LXw",
        "outputId": "98549335-3963-4525-b670-53ff80ae9002"
      },
      "execution_count": 257,
      "outputs": [
        {
          "output_type": "execute_result",
          "data": {
            "text/plain": [
              "['TOY', 'KOOK', 'NU', 'NOK', 'MEE']"
            ]
          },
          "metadata": {},
          "execution_count": 257
        }
      ]
    },
    {
      "cell_type": "code",
      "source": [],
      "metadata": {
        "id": "7Xmv-1W2_YlE"
      },
      "execution_count": null,
      "outputs": []
    },
    {
      "cell_type": "markdown",
      "source": [
        "### While"
      ],
      "metadata": {
        "id": "w042MgGG_wlF"
      }
    },
    {
      "cell_type": "code",
      "source": [
        "#------------------"
      ],
      "metadata": {
        "id": "EX4IE5V1Go4L"
      },
      "execution_count": null,
      "outputs": []
    },
    {
      "cell_type": "code",
      "source": [
        "# while loop\n",
        "count =0\n",
        "\n",
        "while count < 5 :\n",
        "    print(\"hello\") \n",
        "    count = count +1  # count+=1\n",
        "    "
      ],
      "metadata": {
        "colab": {
          "base_uri": "https://localhost:8080/"
        },
        "id": "IoQGSgJUFAGk",
        "outputId": "6316ad8e-9ba6-4cd9-9fdd-5ce8fc450c74"
      },
      "execution_count": null,
      "outputs": [
        {
          "output_type": "stream",
          "name": "stdout",
          "text": [
            "hello\n",
            "hello\n",
            "hello\n",
            "hello\n",
            "hello\n"
          ]
        }
      ]
    },
    {
      "cell_type": "markdown",
      "source": [
        "#### input"
      ],
      "metadata": {
        "id": "Uw5h0mc1_s5l"
      }
    },
    {
      "cell_type": "code",
      "source": [
        "# chatbot\n",
        "user_name = input(\"What is your name?  \")\n"
      ],
      "metadata": {
        "colab": {
          "base_uri": "https://localhost:8080/",
          "height": 0
        },
        "id": "OE3TtOPaGkFF",
        "outputId": "8dca3d5b-3c64-4eee-e33f-79ff7e374cbb"
      },
      "execution_count": 258,
      "outputs": [
        {
          "name": "stdout",
          "output_type": "stream",
          "text": [
            "What is your name?  kook\n"
          ]
        }
      ]
    },
    {
      "cell_type": "code",
      "source": [
        "user_name"
      ],
      "metadata": {
        "colab": {
          "base_uri": "https://localhost:8080/",
          "height": 34
        },
        "id": "3LP-vRqME8Gk",
        "outputId": "fec12d0a-a503-4d81-b20a-a4a36e35e81e"
      },
      "execution_count": 259,
      "outputs": [
        {
          "output_type": "execute_result",
          "data": {
            "text/plain": [
              "'kook'"
            ],
            "application/vnd.google.colaboratory.intrinsic+json": {
              "type": "string"
            }
          },
          "metadata": {},
          "execution_count": 259
        }
      ]
    },
    {
      "cell_type": "code",
      "source": [
        "def chatbot():\n",
        "    fruits = []\n",
        "    while True :\n",
        "        fruit = input(\"what fruit do you want.....? \")                       # user input\n",
        "        fruits.append(fruit)                                                          # sent to upper\n",
        "        if fruit == \"exit\" : \n",
        "            return fruits"
      ],
      "metadata": {
        "id": "ZgZ9boHlEXvN"
      },
      "execution_count": 260,
      "outputs": []
    },
    {
      "cell_type": "code",
      "source": [],
      "metadata": {
        "id": "G1lryzUJAHLZ"
      },
      "execution_count": null,
      "outputs": []
    },
    {
      "cell_type": "code",
      "source": [
        "chatbot()\n"
      ],
      "metadata": {
        "colab": {
          "base_uri": "https://localhost:8080/",
          "height": 0
        },
        "id": "pL0XDfuzHnc0",
        "outputId": "ed7e0e3a-bfc8-406d-8a0d-4197cac1964b"
      },
      "execution_count": 261,
      "outputs": [
        {
          "name": "stdout",
          "output_type": "stream",
          "text": [
            "what fruit do you want.....? hooo\n",
            "what fruit do you want.....? hid\n",
            "what fruit do you want.....? dd\n",
            "what fruit do you want.....? ddd\n",
            "what fruit do you want.....? exit\n"
          ]
        },
        {
          "output_type": "execute_result",
          "data": {
            "text/plain": [
              "['hooo', 'hid', 'dd', 'ddd', 'exit']"
            ]
          },
          "metadata": {},
          "execution_count": 261
        }
      ]
    },
    {
      "cell_type": "code",
      "source": [
        "# HW01 : ordrer pissa\n",
        "# HW02 : pow ying shup \n"
      ],
      "metadata": {
        "id": "dwDEFulPHsjZ"
      },
      "execution_count": null,
      "outputs": []
    },
    {
      "cell_type": "code",
      "source": [
        "age = int(input(\" How old are you ?   \"))"
      ],
      "metadata": {
        "id": "SxY9kx2Q0M53",
        "colab": {
          "base_uri": "https://localhost:8080/",
          "height": 0
        },
        "outputId": "4d20f6b8-4d12-415a-91d0-ed17dbf278a6"
      },
      "execution_count": 262,
      "outputs": [
        {
          "name": "stdout",
          "output_type": "stream",
          "text": [
            " How old are you ?   55\n"
          ]
        }
      ]
    },
    {
      "cell_type": "code",
      "source": [
        "type ( age)"
      ],
      "metadata": {
        "colab": {
          "base_uri": "https://localhost:8080/",
          "height": 0
        },
        "id": "9B_WCGerApsZ",
        "outputId": "fec550f0-01c1-4662-c216-f1158b736738"
      },
      "execution_count": 263,
      "outputs": [
        {
          "output_type": "execute_result",
          "data": {
            "text/plain": [
              "int"
            ]
          },
          "metadata": {},
          "execution_count": 263
        }
      ]
    },
    {
      "cell_type": "code",
      "source": [
        "###-------------------------------------------------------------------------------------------##"
      ],
      "metadata": {
        "id": "DnjBBxXIwUFg"
      },
      "execution_count": null,
      "outputs": []
    },
    {
      "cell_type": "code",
      "source": [
        "# OOP  => Object Oriented Programming\n",
        "\n",
        "# dog class"
      ],
      "metadata": {
        "id": "UALb9xzMv9jc"
      },
      "execution_count": null,
      "outputs": []
    },
    {
      "cell_type": "code",
      "source": [
        "class Dog :\n",
        "   pass"
      ],
      "metadata": {
        "id": "27HreRlMvILK"
      },
      "execution_count": 264,
      "outputs": []
    },
    {
      "cell_type": "code",
      "source": [
        "dog = Dog()\n",
        "print (dog)"
      ],
      "metadata": {
        "id": "P4c5D1j8Ilxl",
        "colab": {
          "base_uri": "https://localhost:8080/",
          "height": 0
        },
        "outputId": "d3f6fed4-0295-4623-fec8-049d7a1efd08"
      },
      "execution_count": 265,
      "outputs": [
        {
          "output_type": "stream",
          "name": "stdout",
          "text": [
            "<__main__.Dog object at 0x7f0435bc47f0>\n"
          ]
        }
      ]
    },
    {
      "cell_type": "code",
      "source": [],
      "metadata": {
        "id": "ar4CS_S9BaM2"
      },
      "execution_count": null,
      "outputs": []
    },
    {
      "cell_type": "code",
      "source": [
        "class Dog:\n",
        "    def __init__(self,name) :\n",
        "        self.name = name\n"
      ],
      "metadata": {
        "id": "gmKbO9SpvF8i"
      },
      "execution_count": 266,
      "outputs": []
    },
    {
      "cell_type": "code",
      "source": [
        "dog1 = Dog(\"mila\")\n",
        "dog2 = Dog(\"joo\")\n",
        "dog3 = Dog(\"lijo\")"
      ],
      "metadata": {
        "id": "ckTI-tROui8u"
      },
      "execution_count": 270,
      "outputs": []
    },
    {
      "cell_type": "code",
      "source": [
        "print ( dog1.name,\n",
        "          dog2.name,\n",
        "          dog3.name)"
      ],
      "metadata": {
        "colab": {
          "base_uri": "https://localhost:8080/",
          "height": 0
        },
        "id": "wHJ2a4F7Bvuz",
        "outputId": "a3b08703-cc84-48d5-f44f-ab7212e2a2eb"
      },
      "execution_count": 271,
      "outputs": [
        {
          "output_type": "stream",
          "name": "stdout",
          "text": [
            "mila joo lijo\n"
          ]
        }
      ]
    },
    {
      "cell_type": "code",
      "source": [],
      "metadata": {
        "id": "66Zn2_DoB7LZ"
      },
      "execution_count": null,
      "outputs": []
    },
    {
      "cell_type": "code",
      "source": [
        "class Dog :\n",
        "    def __init__ (self,name,age) :\n",
        "        self.name = name\n",
        "        self.age = age"
      ],
      "metadata": {
        "id": "Kt5I5lLgubL4"
      },
      "execution_count": 275,
      "outputs": []
    },
    {
      "cell_type": "code",
      "source": [
        "dog1 = Dog(\"mila\" , 2)\n",
        "dog2 = Dog(\"joo\" , 3)\n",
        "dog3 = Dog(\"lijo\" , 5)"
      ],
      "metadata": {
        "id": "fGTSJ1x1BroL"
      },
      "execution_count": 276,
      "outputs": []
    },
    {
      "cell_type": "code",
      "source": [
        "print ( dog1.name, dog1.age,\n",
        "          dog2.name,dog2.age,\n",
        "          dog3.name,dog3.age) \n"
      ],
      "metadata": {
        "colab": {
          "base_uri": "https://localhost:8080/",
          "height": 0
        },
        "id": "zSArUxtjCJ4H",
        "outputId": "5f2a5d96-1429-4f4a-d910-39ddea8f69ab"
      },
      "execution_count": 277,
      "outputs": [
        {
          "output_type": "stream",
          "name": "stdout",
          "text": [
            "mila 2 joo 3 lijo 5\n"
          ]
        }
      ]
    },
    {
      "cell_type": "code",
      "source": [],
      "metadata": {
        "id": "3ow0f_lnCptl"
      },
      "execution_count": null,
      "outputs": []
    },
    {
      "cell_type": "code",
      "source": [
        "class Employee:\n",
        "    def __init__(self, id , name , dept , pos):\n",
        "        self.id = id\n",
        "        self.name = name\n",
        "        self.dept = dept\n",
        "        self.pos = pos\n",
        "    def hello(self) :\n",
        "        print ( f\"hello! my name is {self.name}\")\n",
        "    def work_hour (self , hours) :\n",
        "        print (f\" {self.name} work for {hours} hours \")\n",
        " \n"
      ],
      "metadata": {
        "id": "jViN6yJxtZHt"
      },
      "execution_count": 287,
      "outputs": []
    },
    {
      "cell_type": "code",
      "source": [],
      "metadata": {
        "id": "_d-Wo_GtDuzU"
      },
      "execution_count": null,
      "outputs": []
    },
    {
      "cell_type": "code",
      "source": [],
      "metadata": {
        "id": "G5Z_pgHiC7px"
      },
      "execution_count": null,
      "outputs": []
    },
    {
      "cell_type": "code",
      "source": [
        "emp1 = Employee(1,\"kook\",\"Finance\",\"CFO\")"
      ],
      "metadata": {
        "id": "62fkZAN3tZ_d"
      },
      "execution_count": 289,
      "outputs": []
    },
    {
      "cell_type": "code",
      "source": [
        "emp1.hello()"
      ],
      "metadata": {
        "colab": {
          "base_uri": "https://localhost:8080/",
          "height": 0
        },
        "id": "EmC_NkwyDDq_",
        "outputId": "50c368a2-dadb-4bc3-f4f2-7084d2cab103"
      },
      "execution_count": 290,
      "outputs": [
        {
          "output_type": "stream",
          "name": "stdout",
          "text": [
            "hello! my name is kook\n"
          ]
        }
      ]
    },
    {
      "cell_type": "code",
      "source": [
        "emp1.work_hour(5)"
      ],
      "metadata": {
        "colab": {
          "base_uri": "https://localhost:8080/",
          "height": 0
        },
        "id": "QV444bNiDNbw",
        "outputId": "cc96ad59-a66a-4268-a129-55d70d532fec"
      },
      "execution_count": 291,
      "outputs": [
        {
          "output_type": "stream",
          "name": "stdout",
          "text": [
            " kook work for 5 hours \n"
          ]
        }
      ]
    },
    {
      "cell_type": "code",
      "source": [],
      "metadata": {
        "id": "_AeCFf3WD71q"
      },
      "execution_count": null,
      "outputs": []
    },
    {
      "cell_type": "code",
      "source": [],
      "metadata": {
        "id": "jnvPTERlD6HM"
      },
      "execution_count": null,
      "outputs": []
    },
    {
      "cell_type": "code",
      "source": [
        "print(emp1.name,emp1.pos)"
      ],
      "metadata": {
        "id": "H4NVs4_VtJAu",
        "colab": {
          "base_uri": "https://localhost:8080/"
        },
        "outputId": "6e495b69-ce1b-43e3-d685-d21947e74923"
      },
      "execution_count": null,
      "outputs": [
        {
          "output_type": "stream",
          "name": "stdout",
          "text": [
            "kook CFO\n"
          ]
        }
      ]
    },
    {
      "cell_type": "code",
      "source": [
        "emp1.hello()\n"
      ],
      "metadata": {
        "colab": {
          "base_uri": "https://localhost:8080/",
          "height": 253
        },
        "id": "L6ZK1Ab9LJfX",
        "outputId": "22ab5e00-530e-4afe-82d0-a55e3bedc97f"
      },
      "execution_count": null,
      "outputs": [
        {
          "output_type": "error",
          "ename": "NameError",
          "evalue": "ignored",
          "traceback": [
            "\u001b[0;31m---------------------------------------------------------------------------\u001b[0m",
            "\u001b[0;31mNameError\u001b[0m                                 Traceback (most recent call last)",
            "\u001b[0;32m<ipython-input-170-5a7203eb3fbf>\u001b[0m in \u001b[0;36m<cell line: 1>\u001b[0;34m()\u001b[0m\n\u001b[0;32m----> 1\u001b[0;31m \u001b[0memp1\u001b[0m\u001b[0;34m.\u001b[0m\u001b[0mhello\u001b[0m\u001b[0;34m(\u001b[0m\u001b[0;34m)\u001b[0m\u001b[0;34m\u001b[0m\u001b[0;34m\u001b[0m\u001b[0m\n\u001b[0m",
            "\u001b[0;32m<ipython-input-166-e88e1734276d>\u001b[0m in \u001b[0;36mhello\u001b[0;34m(self)\u001b[0m\n\u001b[1;32m      6\u001b[0m         \u001b[0mself\u001b[0m\u001b[0;34m.\u001b[0m\u001b[0mpos\u001b[0m \u001b[0;34m=\u001b[0m \u001b[0mpos\u001b[0m\u001b[0;34m\u001b[0m\u001b[0;34m\u001b[0m\u001b[0m\n\u001b[1;32m      7\u001b[0m     \u001b[0;32mdef\u001b[0m \u001b[0mhello\u001b[0m\u001b[0;34m(\u001b[0m\u001b[0mself\u001b[0m\u001b[0;34m)\u001b[0m \u001b[0;34m:\u001b[0m\u001b[0;34m\u001b[0m\u001b[0;34m\u001b[0m\u001b[0m\n\u001b[0;32m----> 8\u001b[0;31m         \u001b[0mPrint\u001b[0m\u001b[0;34m(\u001b[0m\u001b[0;34mf\"hello! my name is {self.name}\"\u001b[0m\u001b[0;34m)\u001b[0m\u001b[0;34m\u001b[0m\u001b[0;34m\u001b[0m\u001b[0m\n\u001b[0m",
            "\u001b[0;31mNameError\u001b[0m: name 'Print' is not defined"
          ]
        }
      ]
    },
    {
      "cell_type": "code",
      "source": [],
      "metadata": {
        "id": "kuq0zclTLM9W"
      },
      "execution_count": null,
      "outputs": []
    },
    {
      "cell_type": "code",
      "source": [],
      "metadata": {
        "id": "anq9ARmDtG-3"
      },
      "execution_count": null,
      "outputs": []
    },
    {
      "cell_type": "code",
      "source": [],
      "metadata": {
        "id": "1NiITSb5oCay"
      },
      "execution_count": null,
      "outputs": []
    },
    {
      "cell_type": "code",
      "source": [],
      "metadata": {
        "id": "UXd_WnyfoCdu"
      },
      "execution_count": null,
      "outputs": []
    },
    {
      "cell_type": "code",
      "source": [],
      "metadata": {
        "id": "SWJEwyNQoCgz"
      },
      "execution_count": null,
      "outputs": []
    },
    {
      "cell_type": "code",
      "source": [],
      "metadata": {
        "id": "UVyeMgNeoClK"
      },
      "execution_count": null,
      "outputs": []
    }
  ]
}
